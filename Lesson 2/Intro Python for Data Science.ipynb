{
 "cells": [
  {
   "cell_type": "markdown",
   "metadata": {},
   "source": [
    "## 1. Programming And Data Science\n",
    "\n",
    "Data science involves processing, analyzing, and visualizing data. While some tools like Microsoft Excel allow us to perform basic data science tasks, they're limited to the functionality built in to the user interface. If you want to work with datasets that aren't structured like a spreadsheet or create entire new data visualizations from scratch, you'll need to become proficient in **programming**. Instead of using a program written by others that can solve a narrow set of tasks, you can create your own programs that can solve your specific problems.\n",
    "\n",
    "Programming involves organizing a collection of instructions into a program for a computer to carry out. To express these instructions, we use a **programming language**. In this track, we focus on a language called Python. **Python** is a general-purpose programming language that is becoming more and more popular for doing **data science**. Companies worldwide are using Python to harvest insights from their data and get a competitive edge.\n",
    "\n",
    "\n",
    "**Python** is a popular choice for working with data because it has good support for:\n",
    "\n",
    "- handling large datasets\n",
    "- working with common mathematical functions\n",
    "- creating powerful data visualizations\n",
    "\n",
    "\n",
    "What you will learn\n",
    "- Python versions\n",
    "- Basic data types\n",
    "- List\n",
    "- Files and Loops\n",
    "- If statements\n",
    "- Dictionaries\n",
    "- Functions and Packages\n",
    "\n",
    "## 2. Python versions\n",
    "\n",
    "There are currently two different supported versions of Python, 2.7 and 3.6. Python 3.x introduced many backwards-incompatible changes to the language, so code written for 2.7 may not work under 3.x and vice versa. For this class all code will use Python 3.6. \n",
    "\n",
    "https://wiki.python.org/moin/Python2orPython3\n",
    "\n",
    "\"Python 2.x is legacy, Python 3.x is the present and future of the language\"\"\n",
    "\n",
    "## 3. Basic data types\n",
    "\n",
    "Like most languages, Python has a number of basic types including integers, floats, booleans, and strings. These data types behave in ways that are familiar from other programming languages.\n",
    "\n",
    "\n"
   ]
  },
  {
   "cell_type": "code",
   "execution_count": null,
   "metadata": {
    "collapsed": false
   },
   "outputs": [],
   "source": [
    "x = 3\n",
    "print(type(x)) # Prints \"<class 'int'>\"\n",
    "print(x)       # Prints \"3\"\n",
    "print(x + 1)   # Addition; prints \"4\"\n",
    "print(x - 1)   # Subtraction; prints \"2\"\n",
    "print(x * 2)   # Multiplication; prints \"6\"\n",
    "print(x ** 2)  # Exponentiation; prints \"9\"\n",
    "x += 1\n",
    "print(x)       # Prints \"4\"\n",
    "x *= 2\n",
    "print(x)       # Prints \"8\"\n",
    "y = 2.5\n",
    "print(type(y)) # Prints \"<class 'float'>\"\n",
    "print(y, y + 1, y * 2, y ** 2) # Prints \"2.5 3.5 5.0 6.25\""
   ]
  },
  {
   "cell_type": "markdown",
   "metadata": {},
   "source": [
    "Note that unlike many languages, **Python** does not have unary increment **(x++)** or decrement **(x--)** operators. Python also has built-in type for complex numbers; you can find all of the details in the [documentation](https://docs.python.org/3/library/stdtypes.html#numeric-types-int-float-long-complex).\n",
    "\n",
    "**Booleans**: Python implements all of the usual operators for Boolean logic, but uses English words rather than symbols (&&, ||, etc.):"
   ]
  },
  {
   "cell_type": "code",
   "execution_count": null,
   "metadata": {
    "collapsed": false
   },
   "outputs": [],
   "source": [
    "t = True\n",
    "f = False\n",
    "print(type(t)) # Prints \"<class 'bool'>\"\n",
    "print(t and f) # Logical AND; prints \"False\"\n",
    "print(t or f)  # Logical OR; prints \"True\"\n",
    "print(not t)   # Logical NOT; prints \"False\"\n",
    "print(t != f)  # Logical XOR; prints \"True\" "
   ]
  },
  {
   "cell_type": "markdown",
   "metadata": {},
   "source": [
    "**Strings**: Python has great support for strings:\n"
   ]
  },
  {
   "cell_type": "code",
   "execution_count": null,
   "metadata": {
    "collapsed": false
   },
   "outputs": [],
   "source": [
    "hello = 'hello'           # String literals can use single quotes\n",
    "world = \"world\"           # or double quotes; it does not matter.\n",
    "print (hello)             # Prints \"hello\"\n",
    "print (len(hello))        # String length; prints \"5\"\n",
    "hw = hello + ' ' + world  # String concatenation\n",
    "print(hw)                 # prints \"hello world\"\n",
    "hw12 = '%s %s %d' % (hello, world, 12)  # sprintf style string formatting\n",
    "print(hw12)  # prints \"hello world 12\""
   ]
  },
  {
   "cell_type": "markdown",
   "metadata": {},
   "source": [
    "String objects have a bunch of useful methods, you can find a list of all string methods in the [documentation](https://docs.python.org/3/library/stdtypes.html#string-methods)."
   ]
  },
  {
   "cell_type": "code",
   "execution_count": null,
   "metadata": {
    "collapsed": false
   },
   "outputs": [],
   "source": [
    "s = \"hello\"\n",
    "print (s.capitalize())  # Capitalize a string; prints \"Hello\"\n",
    "print (s.upper())       # Convert a string to uppercase; prints \"HELLO\"\n",
    "print (s.rjust(7))      # Right-justify a string, padding with spaces; prints \"  hello\"\n",
    "print (s.center(7))     # Center a string, padding with spaces; prints \" hello \"\n",
    "print (s.replace('l', '(ell)'))  # Replace all instances of one substring with another;\n",
    "                                 # prints \"he(ell)(ell)o\"\n",
    "print ('  world '.strip())       # Strip leading and trailing whitespace; prints \"world\""
   ]
  },
  {
   "cell_type": "markdown",
   "metadata": {},
   "source": [
    "## 4. Using a list to store multiple values\n",
    "\n",
    "So far, we've been storing individual values in variables. Often in data science, we're working with thousands of data points that are grouped together in a certain way and have an order to them. We need a container that can hold multiple values that we can use to perform operations on. We can use a **list**, which is an object that represents a sequence of values. For example, we can represent the cities in our dataset as a list as a sequence of strings (<span style=\"background-color: #F9EBEA; color:##C0392B\">\"Natal\"</span>, <span style=\"background-color: #F9EBEA; color:##C0392B\">\"São Paulo\"</span>, and so on).\n",
    "\n",
    "A list is the Python equivalent of an array, but is resizeable and can contain elements of different types. You can find all about list in [documentation](https://docs.python.org/3/tutorial/datastructures.html#more-on-lists)."
   ]
  },
  {
   "cell_type": "code",
   "execution_count": null,
   "metadata": {
    "collapsed": false
   },
   "outputs": [],
   "source": [
    "# Create the areas list\n",
    "areas = [\"hallway\", 11.25, \"kitchen\", 18.0, \"living room\", 20.0, \"bedroom\", 10.75, \"bathroom\", 9.50]\n",
    "\n",
    "# Print out areas\n",
    "print(areas)\n",
    "\n",
    "# Print out the type of areas\n",
    "print(type(areas))\n",
    "\n",
    "# Print out second element from areas\n",
    "print(areas[1])\n",
    "\n",
    "# Print out last element from areas\n",
    "print(areas[-1])\n",
    "\n",
    "# Print out the area of the living room\n",
    "print(areas[-5])\n",
    "\n",
    "# Add two new elements to the end of the list\n",
    "areas.append(\"laundry\")\n",
    "areas.append(8.75)\n",
    "\n",
    "# Print out the new list\n",
    "print(areas)\n",
    "\n",
    "# Lists have a feature called slicing that allows you to return all of the values between\n",
    "# a starting index and an ending index. When you slice a list, you return a new list containing\n",
    "# just the values you're interested in.\n",
    "\n",
    "# Remove the first two elements of list\n",
    "del(areas[0:2])\n",
    "print(areas)\n",
    "\n",
    "# Remove the last two elements of list\n",
    "del(areas[-2:])\n",
    "print(areas)"
   ]
  },
  {
   "cell_type": "markdown",
   "metadata": {},
   "source": [
    "## 5. Files and Loops\n",
    "\n",
    "We'll learn how to work with files and use loops to iterate through lists. We'll be working with crime rate data for 73 cities in the United States. Datasets are often represented in files that you can download and manipulate. Before we get started, we'll first need to learn how to work with files in Python.\n",
    "\n",
    "To open a file in Python, we use the <span style=\"background-color: #F9EBEA; color:##C0392B\">open()</span> function. This function accepts two different arguments (inputs) in the parentheses, always in the following order:\n",
    "\n",
    "- the name of the file (as a string)\n",
    "- the mode of working with the file (as a string)\n",
    "\n",
    "\n",
    "We'll learn about the various modes in a later mission. For now, we'll just use <span style=\"background-color: #F9EBEA; color:##C0392B\">\"r\"</span>, the mode for reading in files.\n",
    "\n",
    "When entering multiple inputs, separate them with commas (<span style=\"background-color: #F9EBEA; color:##C0392B\">,</span>). For example, to open a file named <span style=\"background-color: #F9EBEA; color:##C0392B\">story.txt</span> in read mode, we write the following:\n",
    "\n",
    ">```python\n",
    "open(\"story.txt\", \"r\")\n",
    "```\n",
    "\n",
    "The <span style=\"background-color: #F9EBEA; color:##C0392B\">open()</span> function returns a *File* object. This object stores the information we passed in, and allows us to call methods specific to the File class. We can assign the File object to a variable so we can refer to it later:\n",
    "\n",
    ">```python\n",
    "a = open(\"story.txt\", \"r\")\n",
    "```\n",
    "\n",
    "Note that the File object, <span style=\"background-color: #F9EBEA; color:##C0392B\">a</span>, won't contain the actual contents of the file. It's instead an object that acts as an interface to the file and contains methods for reading in and modifying the file's contents (which we'll cover in the next screen).\n",
    "\n",
    "\n"
   ]
  },
  {
   "cell_type": "code",
   "execution_count": null,
   "metadata": {
    "collapsed": false
   },
   "outputs": [],
   "source": [
    "#open the file\n",
    "f = open(\"crime_rates.csv\", \"r\")\n",
    "\n",
    "#read the file\n",
    "data = f.read()\n",
    "\n",
    "#print data\n",
    "print(type(data))\n",
    "print(data)"
   ]
  },
  {
   "cell_type": "code",
   "execution_count": null,
   "metadata": {
    "collapsed": false
   },
   "outputs": [],
   "source": [
    "#split the crime_rates.csv based on '\\n' filter\n",
    "rows = data.split('\\n')\n",
    "\n",
    "#print the first five rows\n",
    "print(rows[0:5])"
   ]
  },
  {
   "cell_type": "code",
   "execution_count": null,
   "metadata": {
    "collapsed": false
   },
   "outputs": [],
   "source": [
    "#create an empty list\n",
    "int_crime_rates=[]\n",
    "\n",
    "#print the rate of crimes for each city using a list(int)\n",
    "for i in rows:\n",
    "    int_crime_rates.append(int(i.split(\",\")[1]))"
   ]
  },
  {
   "cell_type": "code",
   "execution_count": null,
   "metadata": {
    "collapsed": false
   },
   "outputs": [],
   "source": [
    "type(int_crime_rates[0])"
   ]
  },
  {
   "cell_type": "markdown",
   "metadata": {},
   "source": [
    "## 6. Booleans\n",
    "\n",
    "We'll learn how to express conditional logic. We can use **conditional logic** to add criteria to the code we write. Some examples of operations that use criteria include:\n",
    "\n",
    "- Finding all the integers in a list that are greater than <span style=\"background-color: #F9EBEA; color:##C0392B\">\"5\"</span>.\n",
    "- Identifying which elements in a list are strings, and printing only those values.\n",
    "\n",
    "We can break down both of these examples into logic we can code:\n",
    "\n",
    "- For each integer in a list, if the integer is greater than <span style=\"background-color: #F9EBEA; color:##C0392B\">\"5\"</span>, add to the list <span style=\"background-color: #F9EBEA; color:##C0392B\">greater_than_five</span>.\n",
    "- For each element in a list, if the value has a string data type, use the <span style=\"background-color: #F9EBEA; color:##C0392B\">print()</span> function to display it; if it's not a string, ignore it.\n",
    "\n",
    "Python has a class called **Boolean** that helps express conditional logic. There are only two Boolean values: <span style=\"background-color: #F9EBEA; color:##C0392B\">True</span> and <span style=\"background-color: #F9EBEA; color:##C0392B\">False</span>. Because they're words, Boolean values may look like strings, but they're an entirely separate class. For example, string operations like concatenation won't work with Booleans.\n",
    "\n",
    "The following code example assigns <span style=\"background-color: #F9EBEA; color:##C0392B\">True</span> to <span style=\"background-color: #F9EBEA; color:##C0392B\">t</span> and <span style=\"background-color: #F9EBEA; color:##C0392B\">False</span> to <span style=\"background-color: #F9EBEA; color:##C0392B\">f</span>:\n",
    "\n",
    ">```python\n",
    "t = True\n",
    "f = False\n",
    "```\n",
    "\n",
    "If we display the data type for either <span style=\"background-color: #F9EBEA; color:##C0392B\">t</span> or <span style=\"background-color: #F9EBEA; color:##C0392B\">f</span>, we'll see class <span style=\"background-color: #F9EBEA; color:##C0392B\">'bool'</span>, shorthand for Boolean.\n",
    "\n",
    "\n",
    "### 6.1 Boolean Operators\n",
    "\n",
    "Python has comparison operators that allow us to compare variables:\n",
    "\n",
    "<span style=\"background-color: #F9EBEA; color:##C0392B\">==</span> returns True if both variables are equivalent, and False if they're different\n",
    "\n",
    "<span style=\"background-color: #F9EBEA; color:##C0392B\">=!</span> returns True if both variables are different, and False if they're equivalent\n",
    "\n",
    "<span style=\"background-color: #F9EBEA; color:##C0392B\">></span> returns True if the first variable is greater than the second variable, and False otherwise\n",
    "\n",
    "<span style=\"background-color: #F9EBEA; color:##C0392B\"><</span> returns True if the first variable is less than the second variable, and False otherwise\n",
    "\n",
    "<span style=\"background-color: #F9EBEA; color:##C0392B\">>=</span> returns True if the first variable is greater than or equal to the second variable, and False otherwise\n",
    "\n",
    "<span style=\"background-color: #F9EBEA; color:##C0392B\"><=</span> returns True if the first variable is less than or equal to the second variable, and False otherwise"
   ]
  },
  {
   "cell_type": "code",
   "execution_count": null,
   "metadata": {
    "collapsed": false
   },
   "outputs": [],
   "source": [
    "print(8 == 8) # True\n",
    "print(8 != 8) # False\n",
    "print(8 == 10) # False\n",
    "print(8 != 10) # True"
   ]
  },
  {
   "cell_type": "code",
   "execution_count": null,
   "metadata": {
    "collapsed": false
   },
   "outputs": [],
   "source": [
    "rates = [10, 15, 20]\n",
    "print(rates[0] > rates[1]) # False\n",
    "print(rates[0] >= rates[0]) # True"
   ]
  },
  {
   "cell_type": "markdown",
   "metadata": {},
   "source": [
    "## 7. If Statements\n",
    "\n",
    "Now that we know how to work with Boolean values, let's dive more into how we use Booleans to express conditional logic. To complement Booleans, Python contains the if operator. We can use this operator to write a statement that tests whether certain conditions exist. Our if statement will evaluate to either <span style=\"background-color: #F9EBEA; color:##C0392B\">True</span> or <span style=\"background-color: #F9EBEA; color:##C0392B\">False</span>, and only run the specified code when <span style=\"background-color: #F9EBEA; color:##C0392B\">True</span>.\n",
    "\n",
    ">```python\n",
    "sample_rate = 749\n",
    "greater = (sample_rate > 5)\n",
    "if greater:                    #This is the conditional statement.\n",
    "    print(sample_rate)\n",
    "```\n",
    "\n",
    "We can nest if statements to specify multiple criteria. \n",
    "\n",
    ">```python\n",
    "value = 1500\n",
    "if value > 500:\n",
    "    if value > 1000:\n",
    "        print(\"This number is HUGE!\")\n",
    "```\n",
    "\n",
    "We can also nest if statements within for loops, and vice versa. For example, we can search a list for the existence of a specific value by combining a for loop with an if statement. The if statement determines whether the current element is equivalent to the value we're interested in:\n",
    "\n",
    ">```python\n",
    "found = False\n",
    "for city in cities:\n",
    "    if city == 'João Pessoa':\n",
    "        found = True\n",
    "```"
   ]
  },
  {
   "cell_type": "markdown",
   "metadata": {},
   "source": [
    "<br>\n",
    "<div class=\"alert alert-info\">\n",
    "<b>Exercise Start.</b>\n",
    "</div>\n",
    "\n",
    "**Description**: \n",
    "\n",
    "For this challenge, you'll be working with the data set behind this [FiveThirtyEight](http://fivethirtyeight.com/features/there-are-922-unisex-names-in-america-is-yours-one-of-them/) article on common unisex (gender-neutral) names in the United States. You'll start by reading in the file and iteratively converting the data to more useful representations. At the end of this challenge, you'll filter the data so that it only includes the names that at least 1,000 people share.\n",
    "\n",
    "The staff at [FiveThirtyEight](http://fivethirtyeight.com/) compiled this data set from information at the [Social Security Adminstration's website](https://www.ssa.gov/oact/babynames/limits.html). You'll work with a shortened version of the full data set to complete this challenge.\n",
    "\n",
    "Here's a preview of the shortened data set, which is in a CSV file named [unisex_names_table.csv](https://github.com/fivethirtyeight/data/blob/master/unisex-names/unisex_names_table.csv) (tip: raw,save as):\n",
    "\n",
    ">1) Use the <span style=\"background-color: #F9EBEA; color:##C0392B\">open()</span> function with the following parameters to return a File object: \n",
    "\n",
    ">>+ <span style=\"background-color: #F9EBEA; color:##C0392B\">unisex_names_table.csv</span> for the file name.\n",
    "+ <span style=\"background-color: #F9EBEA; color:##C0392B\">r</span> for read mode\n",
    "+ Then, use the <span style=\"background-color: #F9EBEA; color:##C0392B\">read()</span> method of the File object to read the file into a string. Assign that string to a variable named <span style=\"background-color: #F9EBEA; color:##C0392B\">names</span>.\n",
    ">```python\n",
    "data = open(\"unisex_names_table.csv\",\"r\")\n",
    "names = data.read()\n",
    "```\n",
    "\n",
    ">2) Convert the string to a list\n",
    "\n",
    ">>+ Use the <span style=\"background-color: #F9EBEA; color:##C0392B\">split()</span> method that *strings* have to split on the new-line delimiter (<span style=\"background-color: #F9EBEA; color:##C0392B\">\"\\n\"</span>), and assign the resulting list to <span style=\"background-color: #F9EBEA; color:##C0392B\">names_list</span>.\n",
    "+ Select the first five elements in <span style=\"background-color: #F9EBEA; color:##C0392B\">names_list</span>, and assign them to <span style=\"background-color: #F9EBEA; color:##C0392B\">first_five</span>.\n",
    "+ Display <span style=\"background-color: #F9EBEA; color:##C0392B\">first_five</span> using the <span style=\"background-color: #F9EBEA; color:##C0392B\">print()</span> function.\n",
    ">```python\n",
    "names_list = names.split(\"\\n\")\n",
    "#skip the header and tail\n",
    "names_list = names_list[1:-1]\n",
    "first_five = names_list[0:5]\n",
    "print(first_five)\n",
    "```\n",
    "\n",
    ">3) Convert the list of strings to a list of lists. Split each element in <span style=\"background-color: #F9EBEA; color:##C0392B\">names_list</span> on the comma delimiter <span style=\"background-color: #F9EBEA; color:##C0392B\">(,)</span> and append the resulting list to <span style=\"background-color: #F9EBEA; color:##C0392B\">nested_list</span>. To accomplish this:\n",
    "\n",
    ">>+ Create an empty list and assign it to <span style=\"background-color: #F9EBEA; color:##C0392B\">nested_list</span>.\n",
    "+ Write a for loop that iterates over <span style=\"background-color: #F9EBEA; color:##C0392B\">names_list</span>.\n",
    "+ Within the loop body, run the <span style=\"background-color: #F9EBEA; color:##C0392B\">split()</span> method on each element to return a list (assign that list to <span style=\"background-color: #F9EBEA; color:##C0392B\">comma_list</span>).\n",
    "+ Within the loop body, run the <span style=\"background-color: #F9EBEA; color:##C0392B\">append()</span> method to add each list (<span style=\"background-color: #F9EBEA; color:##C0392B\">comma_list</span>) to <span style=\"background-color: #F9EBEA; color:##C0392B\">nested_list</span>.\n",
    "+ Use the <span style=\"background-color: #F9EBEA; color:##C0392B\">print()</span> function to display the first five elements in <span style=\"background-color: #F9EBEA; color:##C0392B\">nested_list</span>\n",
    ">```python\n",
    "nested_list = []\n",
    "for i in names_list:\n",
    "    comma_list = i.split(',')\n",
    "    nested_list.append(comma_list)\n",
    "```\n",
    "\n",
    ">4) Create a new list of strings called <span style=\"background-color: #F9EBEA; color:##C0392B\">thousand_or_greater</span> that only contains the names shared by 1,000 people or more. To accomplish this:\n",
    "\n",
    ">>+ Create an empty list and assign it to <span style=\"background-color: #F9EBEA; color:##C0392B\">thousand_or_greater</span>.\n",
    "+ Write a for loop that iterates over <span style=\"background-color: #F9EBEA; color:##C0392B\">numerical_list</span>.\n",
    ">```python\n",
    "numerical_list = []\n",
    "for i in nested_list:\n",
    "    a = i[1]\n",
    "    b = float(i[2])\n",
    "    numerical_list.append([a,b])\n",
    "```\n",
    "+ In the loop body, use an if statement to determine if the value at index <span style=\"background-color: #F9EBEA; color:##C0392B\">2</span> for that element (which is a list) is greater than or equal to <span style=\"background-color: #F9EBEA; color:##C0392B\">1000</span>.\n",
    "+ If the value is greater than or equal to <span style=\"background-color: #F9EBEA; color:##C0392B\">1000</span>, use the <span style=\"background-color: #F9EBEA; color:##C0392B\">append()</span> method to add its name to <span style=\"background-color: #F9EBEA; color:##C0392B\">thousand_or_greater</span>.\n",
    "+ Finally, display the first <span style=\"background-color: #F9EBEA; color:##C0392B\">10</span> elements in <span style=\"background-color: #F9EBEA; color:##C0392B\">thousand_or_greater</span>."
   ]
  },
  {
   "cell_type": "markdown",
   "metadata": {},
   "source": [
    "## 8. Dictionaries\n",
    "\n",
    "A dictionary is like a list in that it has indexes, but the indexes aren't necessarily sequential numbers. We can create our own indexes with values of any data type, including strings.\n",
    "\n",
    "A dictionary stores (key, value) pairs, similar to a Map in Java or an object in Javascript."
   ]
  },
  {
   "cell_type": "code",
   "execution_count": 70,
   "metadata": {
    "collapsed": false
   },
   "outputs": [
    {
     "name": "stdout",
     "output_type": "stream",
     "text": [
      "berlin\n"
     ]
    }
   ],
   "source": [
    "# Definition of countries and capital\n",
    "countries = ['spain', 'france', 'germany', 'norway']\n",
    "capitals = ['madrid', 'paris', 'berlin', 'oslo']\n",
    "\n",
    "# Get index of 'germany': ind_ger\n",
    "ind_ger = countries.index('germany')\n",
    "\n",
    "# Use ind_ger to print out capital of Germany\n",
    "print(capitals[ind_ger])"
   ]
  },
  {
   "cell_type": "code",
   "execution_count": 71,
   "metadata": {
    "collapsed": false
   },
   "outputs": [
    {
     "name": "stdout",
     "output_type": "stream",
     "text": [
      "{'spain': 'madrid', 'france': 'paris', 'germany': 'berlin', 'norway': 'oslo'}\n",
      "dict_keys(['spain', 'france', 'germany', 'norway'])\n",
      "oslo\n"
     ]
    }
   ],
   "source": [
    "# From string in countries and capitals, create dictionary europe\n",
    "europe = {'spain':'madrid','france':'paris','germany':'berlin','norway':'oslo'}\n",
    "\n",
    "# Print europe\n",
    "print(europe)\n",
    "\n",
    "# Print out the keys in europe\n",
    "print(europe.keys())\n",
    "\n",
    "# Print out value that belongs to key 'norway'\n",
    "print(europe['norway'])"
   ]
  },
  {
   "cell_type": "code",
   "execution_count": 72,
   "metadata": {
    "collapsed": false
   },
   "outputs": [
    {
     "name": "stdout",
     "output_type": "stream",
     "text": [
      "True\n",
      "{'spain': 'madrid', 'france': 'paris', 'germany': 'berlin', 'norway': 'oslo', 'italy': 'rome', 'poland': 'warsaw'}\n",
      "{'spain': 'madrid', 'germany': 'berlin', 'norway': 'oslo', 'italy': 'rome', 'poland': 'warsaw'}\n"
     ]
    }
   ],
   "source": [
    "# Add italy to europe\n",
    "europe['italy'] = 'rome'\n",
    "\n",
    "# Print out italy in europe\n",
    "print('italy' in europe)\n",
    "\n",
    "# Add poland to europe\n",
    "europe['poland'] = 'warsaw'\n",
    "\n",
    "print(europe)\n",
    "\n",
    "del(europe['france'])\n",
    "\n",
    "# Print europe\n",
    "print(europe)"
   ]
  },
  {
   "cell_type": "code",
   "execution_count": 73,
   "metadata": {
    "collapsed": false
   },
   "outputs": [
    {
     "name": "stdout",
     "output_type": "stream",
     "text": [
      "paris\n",
      "{'spain': {'capital': 'madrid', 'population': 46.77}, 'france': {'capital': 'paris', 'population': 66.03}, 'germany': {'capital': 'berlin', 'population': 80.62}, 'norway': {'capital': 'oslo', 'population': 5.084}, 'italy': {'capital': 'rome', 'population': 59.83}}\n"
     ]
    }
   ],
   "source": [
    "# Dictionary of dictionaries\n",
    "europe = { 'spain': { 'capital':'madrid', 'population':46.77 },\n",
    "           'france': { 'capital':'paris', 'population':66.03 },\n",
    "           'germany': { 'capital':'berlin', 'population':80.62 },\n",
    "           'norway': { 'capital':'oslo', 'population':5.084 } }\n",
    "\n",
    "\n",
    "# Print out the capital of France\n",
    "print(europe['france']['capital'])\n",
    "\n",
    "# Create sub-dictionary data\n",
    "data = {'capital':'rome', 'population':59.83}\n",
    "\n",
    "# Add data to europe under key 'italy'\n",
    "europe['italy'] = data\n",
    "\n",
    "# Print europe\n",
    "print(europe)"
   ]
  },
  {
   "cell_type": "markdown",
   "metadata": {},
   "source": [
    "### 8.1 Loop over a dictionary\n",
    "\n",
    "In Python 3, you need the **items()** method to loop over a dictionary:\n",
    "\n",
    "\n",
    "```python\n",
    "  world = { \"afghanistan\":30.55, \n",
    "             \"albania\":2.77,\n",
    "             \"algeria\":39.21 }\n",
    "  for key, value in world.items() :\n",
    "      print(key + \" -- \" + str(value))\n",
    "```"
   ]
  },
  {
   "cell_type": "code",
   "execution_count": 74,
   "metadata": {
    "collapsed": false
   },
   "outputs": [
    {
     "name": "stdout",
     "output_type": "stream",
     "text": [
      "the capital of spain is madrid\n",
      "the capital of france is paris\n",
      "the capital of germany is bonn\n",
      "the capital of norway is oslo\n",
      "the capital of italy is rome\n",
      "the capital of poland is warsaw\n",
      "the capital of australia is vienna\n"
     ]
    }
   ],
   "source": [
    "# Definition of dictionary\n",
    "europe = {'spain':'madrid', 'france':'paris', 'germany':'bonn', \n",
    "          'norway':'oslo', 'italy':'rome', 'poland':'warsaw', 'australia':'vienna' }\n",
    "          \n",
    "# Iterate over europe\n",
    "for key, value in europe.items():\n",
    "    print(\"the capital of \" + key + \" is \" + value)"
   ]
  },
  {
   "cell_type": "markdown",
   "metadata": {},
   "source": [
    "<br>\n",
    "<div class=\"alert alert-info\">\n",
    "<b>Exercise Start.</b>\n",
    "</div>\n",
    "\n",
    "**Description**: \n",
    "\n",
    "In this mission, we'll look at daily weather data for Los Angeles (L.A.) during 2014. Here's a look at the beginning of <span style=\"background-color: #F9EBEA; color:##C0392B\">la_weather.csv</span>, the data set we'll be working:\n",
    "\n",
    ">```csv\n",
    "Day,Type of Weather\n",
    "1,Sunny\n",
    "2,Sunny\n",
    "3,Sunny\n",
    "4,Sunny\n",
    "5,Sunny\n",
    "6,Rain\n",
    "7,Sunny\n",
    "8,Sunny\n",
    "9,Fog\n",
    "10,Rain\n",
    "```\n",
    "\n",
    "The first row in our data is the header row, which contains labels for the values beneath them. As the header row indicates, each row has two values:\n",
    "\n",
    "- <span style=\"background-color: #F9EBEA; color:##C0392B\">Day</span> - A number from <span style=\"background-color: #F9EBEA; color:##C0392B\">1</span> to <span style=\"background-color: #F9EBEA; color:##C0392B\">365</span> indicating the day of the year. January 1st is 1, and December 31st is <span style=\"background-color: #F9EBEA; color:##C0392B\">365</span>.\n",
    "- <span style=\"background-color: #F9EBEA; color:##C0392B\">Type of Weather</span> - The type of weather experienced on that day. The values that may appear here include <span style=\"background-color: #F9EBEA; color:##C0392B\">Rain</span>, <span style=\"background-color: #F9EBEA; color:##C0392B\">Sunny</span>, <span style=\"background-color: #F9EBEA; color:##C0392B\">Fog</span>, <span style=\"background-color: #F9EBEA; color:##C0392B\">Fog-Rain</span>, or <span style=\"background-color: #F9EBEA; color:##C0392B\">Thunderstorm</span>.\n",
    "\n",
    ">```python\n",
    "weather_data = []\n",
    "f = open(\"la_weather.csv\", 'r')\n",
    "data = f.read()\n",
    "rows = data.split('\\n')\n",
    "for row in rows:\n",
    "    split_row = row.split(\",\")\n",
    "    weather_data.append(split_row[1])\n",
    "weather_data = weather_data[1:]\n",
    "```\n",
    "\n",
    "**Instructions**: \n",
    "\n",
    "1. Count how many times each type of weather occurs in the weather list, and store the results in a new dictionary called - <span style=\"background-color: #F9EBEA; color:##C0392B\">weather_counts</span>.\n",
    "\n",
    ">```python\n",
    "weather_counts = {}\n",
    "for item in weather_data:\n",
    "    if item in weather_counts:\n",
    "    ...\n",
    "    else:\n",
    "    ...\n",
    "```"
   ]
  },
  {
   "cell_type": "markdown",
   "metadata": {},
   "source": [
    "## 9. Functions and Packages\n",
    "\n",
    "To leverage the code that brilliant Python developers have written, you'll learn about using functions, methods and packages. This will help you to reduce the amount of code you need to solve challenging problems!\n"
   ]
  },
  {
   "cell_type": "code",
   "execution_count": 82,
   "metadata": {
    "collapsed": true
   },
   "outputs": [],
   "source": [
    "# Maybe you already know the name of a Python function, but you still have to figure out how to use it. \n",
    "# Ironically, you have to ask for information about a function with another function: help(). \n",
    "# In IPython specifically, you can also use ? before the function name.\n",
    "# To get help on the max() function, for example, you can use one of these calls:\n",
    "\n",
    "?max #or # help(max)"
   ]
  },
  {
   "cell_type": "code",
   "execution_count": 83,
   "metadata": {
    "collapsed": false
   },
   "outputs": [
    {
     "name": "stdout",
     "output_type": "stream",
     "text": [
      "2\n",
      "0\n",
      "[9.5, 10.75, 20.0, 18.0, 11.25]\n"
     ]
    }
   ],
   "source": [
    "# Create list areas\n",
    "areas = [11.25, 18.0, 20.0, 10.75, 9.50]\n",
    "\n",
    "# Print out the index of the element 20.0\n",
    "print(areas.index(20.0))\n",
    "\n",
    "# Print out how often 14.5 appears in areas\n",
    "print(areas.count(14.5))\n",
    "\n",
    "# Reverse the orders of the elements in areas\n",
    "areas.reverse()\n",
    "\n",
    "# Print out areas\n",
    "print(areas)"
   ]
  },
  {
   "cell_type": "code",
   "execution_count": 84,
   "metadata": {
    "collapsed": false
   },
   "outputs": [
    {
     "name": "stdout",
     "output_type": "stream",
     "text": [
      "negative\n",
      "zero\n",
      "positive\n"
     ]
    }
   ],
   "source": [
    "# Python functions are defined using the \"def\" keyword. For example:\n",
    "\n",
    "def sign(x):\n",
    "    if x > 0:\n",
    "        return 'positive'\n",
    "    elif x < 0:\n",
    "        return 'negative'\n",
    "    else:\n",
    "        return 'zero'\n",
    "\n",
    "for x in [-1, 0, 1]:\n",
    "    print(sign(x))\n",
    "# Prints \"negative\", \"zero\", \"positive\""
   ]
  },
  {
   "cell_type": "code",
   "execution_count": 85,
   "metadata": {
    "collapsed": false
   },
   "outputs": [
    {
     "name": "stdout",
     "output_type": "stream",
     "text": [
      "Hello, Ivanovitch\n",
      "HELLO, SILVA!\n"
     ]
    }
   ],
   "source": [
    "# We will often define functions to take optional keyword arguments, like this:\n",
    "\n",
    "def hello(name, loud=False):\n",
    "    if loud:\n",
    "        print('HELLO, %s!' % name.upper())\n",
    "    else:\n",
    "        print('Hello, %s' % name)\n",
    "\n",
    "hello('Ivanovitch') # Prints \"Hello, Ivanovitch\"\n",
    "hello('Silva', loud=True)  # Prints \"HELLO, SILVA!\"\n"
   ]
  },
  {
   "cell_type": "markdown",
   "metadata": {},
   "source": [
    "**Modules** are pieces of code that other people have written to fulfill common tasks, such as genrating random numbers, performing mathematical operations, etc. \n",
    "\n",
    "The basic way to use a module is to add **import module_name** at the top of your code, and then using **module_name.var** to access functions and values with the name **var** in the module. \n",
    "\n",
    "For example, as a data scientist, some notions of geometry never hurt. Let's refresh some of the basics. For a fancy clustering algorithm, you want to find the circumference $C$ and area $A$ of a circle. When the radius of the circle is $r$, you can calculate $C$ and $A$ as:\n",
    "\n",
    "\\begin{equation*}\n",
    "C   = 2 \\pi r\\\\\n",
    "A   = \\pi r^{2}\n",
    "\\end{equation*}"
   ]
  },
  {
   "cell_type": "code",
   "execution_count": 87,
   "metadata": {
    "collapsed": false
   },
   "outputs": [
    {
     "name": "stdout",
     "output_type": "stream",
     "text": [
      "Circumference: 2.701769682087222\n",
      "Area: 0.5808804816487527\n"
     ]
    }
   ],
   "source": [
    "# Import the math package\n",
    "import math\n",
    "\n",
    "# Definition of radius\n",
    "r = 0.43\n",
    "\n",
    "# Calculate C\n",
    "C = 2 * math.pi * r\n",
    "\n",
    "# Calculate A\n",
    "A = math.pi * r ** 2\n",
    "\n",
    "# Build printout\n",
    "print(\"Circumference: \" + str(C))\n",
    "print(\"Area: \" + str(A))"
   ]
  },
  {
   "cell_type": "markdown",
   "metadata": {},
   "source": [
    "There is another kind of **import** that can be used if you only need certain functions from a module. These take the form **from module_name import var**, and the **var** can be used as if it were defined normally in your code. For example, to import only the **pi** constant from the previous example:"
   ]
  },
  {
   "cell_type": "code",
   "execution_count": 88,
   "metadata": {
    "collapsed": false
   },
   "outputs": [
    {
     "name": "stdout",
     "output_type": "stream",
     "text": [
      "3.141592653589793\n"
     ]
    }
   ],
   "source": [
    "# Import the math package\n",
    "from math import pi\n",
    "\n",
    "print(pi)"
   ]
  },
  {
   "cell_type": "markdown",
   "metadata": {},
   "source": [
    "You can imort a module or object under a different name using the as keyword. This is mainly used when a module or object has a long or confusing name. For example:"
   ]
  },
  {
   "cell_type": "code",
   "execution_count": 90,
   "metadata": {
    "collapsed": false
   },
   "outputs": [
    {
     "name": "stdout",
     "output_type": "stream",
     "text": [
      "3.1622776601683795\n"
     ]
    }
   ],
   "source": [
    "from math import sqrt as square_root\n",
    "\n",
    "print(square_root(10))"
   ]
  },
  {
   "cell_type": "markdown",
   "metadata": {},
   "source": [
    "<br>\n",
    "<div class=\"alert alert-info\">\n",
    "<b>Exercise Start.</b>\n",
    "</div>\n",
    "\n",
    "**Description**: \n",
    "\n",
    "Implement the previous exercise as function. The function must pass as parameter a list of weather data and return a dictionary having how many times each type of weather occurs."
   ]
  },
  {
   "cell_type": "code",
   "execution_count": null,
   "metadata": {
    "collapsed": true
   },
   "outputs": [],
   "source": []
  }
 ],
 "metadata": {
  "kernelspec": {
   "display_name": "Python 3",
   "language": "python",
   "name": "python3"
  },
  "language_info": {
   "codemirror_mode": {
    "name": "ipython",
    "version": 3
   },
   "file_extension": ".py",
   "mimetype": "text/x-python",
   "name": "python",
   "nbconvert_exporter": "python",
   "pygments_lexer": "ipython3",
   "version": "3.6.0"
  }
 },
 "nbformat": 4,
 "nbformat_minor": 2
}
