{
 "cells": [
  {
   "cell_type": "markdown",
   "metadata": {},
   "source": [
    "# Building interactive apps with Bokeh \n",
    "\n",
    "Bokeh server applications let you connect all of the powerful Python libraries for analytics and data science, such as NumPy and Pandas, to rich interactive Bokeh visualizations. Learn about Bokeh's built-in widgets, how to add them to Bokeh documents alongside plots, and how to connect everything to real python code using the Bokeh server.\n"
   ]
  },
  {
   "cell_type": "markdown",
   "metadata": {
    "collapsed": true
   },
   "source": [
    "## Add a single slider\n",
    "\n",
    "Your job here is to create a single slider, use it to create a **widgetbox** layout, and then add this layout to the current document.\n",
    "\n",
    "The slider you create here cannot be used for much, but in the later exercises, you will use it to update your plots!"
   ]
  },
  {
   "cell_type": "code",
   "execution_count": null,
   "metadata": {
    "collapsed": false
   },
   "outputs": [],
   "source": [
    "# Perform the necessary imports\n",
    "from bokeh.io import output_notebook, show\n",
    "from bokeh.layouts import widgetbox\n",
    "from bokeh.models import Slider\n",
    "\n",
    "# Create first slider: slider1\n",
    "slider1 = Slider(title='slider1', start=0, end=10, step=0.1, value=2)\n",
    "\n",
    "# Create second slider: slider2\n",
    "slider2 = Slider(title='slider2', start=10, end=100, step=1, value=20)\n",
    "\n",
    "# Add slider1 and slider2 to a widgetbox\n",
    "layout = widgetbox(slider1,slider2)\n",
    "\n",
    "# Call the output_notebook() \n",
    "output_notebook()\n",
    "show(layout)\n",
    "\n"
   ]
  },
  {
   "cell_type": "markdown",
   "metadata": {},
   "source": [
    "## How to combine Bokeh models into layouts\n",
    "\n",
    "Let's begin making a Bokeh application that has a simple slider and plot, that also updates the plot based on the slider.\n",
    "\n",
    "In this exercise, your job is to first explicitly create a ColumnDataSource. You will then combine a plot and a slider into a single column layout, and add it to the current document.\n",
    "\n",
    "After you are done, notice how in the figure you generate, the slider will not actually update the plot, because a widget callback has not been defined. You will learn how to update the plot using widget callbacks in the next exercise."
   ]
  },
  {
   "cell_type": "code",
   "execution_count": null,
   "metadata": {
    "collapsed": false
   },
   "outputs": [],
   "source": [
    "# Import the ColumnDataSource, figure class from bokeh.plotting\n",
    "from bokeh.plotting import ColumnDataSource, figure\n",
    "\n",
    "# Import row from bokeh.layouts\n",
    "from bokeh.layouts import column\n",
    "\n",
    "# Import the widgets\n",
    "from bokeh.layouts import widgetbox\n",
    "from bokeh.models import Slider\n",
    "\n",
    "# Import numpy\n",
    "import numpy as np\n",
    "\n",
    "# Import functions to draw the figure in notebook\n",
    "from bokeh.io import output_notebook, show\n",
    "\n",
    "\n",
    "# Dataset\n",
    "x = np.arange(0,10,0.1)\n",
    "y = np.sin(x)\n",
    "\n",
    "# Create ColumnDataSource: source\n",
    "source = ColumnDataSource(data={'x': x, 'y': y})\n",
    "\n",
    "# Create a figure\n",
    "p = figure(x_axis_label='x values', y_axis_label='Sin(x)',\n",
    "          width=400, height=300)\n",
    "\n",
    "# Add a line to the plot\n",
    "p.line('x', 'y', source=source)\n",
    "\n",
    "# Create first slider: slider1\n",
    "slider = Slider(title='slider1', start=0, end=10, step=0.1, value=2)\n",
    "\n",
    "# Create a column layout: layout\n",
    "layout = column(widgetbox(slider),p)\n",
    "\n",
    "# Call the output_notebook() \n",
    "output_notebook()\n",
    "show(layout)\n"
   ]
  },
  {
   "cell_type": "markdown",
   "metadata": {},
   "source": [
    "## Learn about widget callbacks\n",
    "\n",
    "You will now learn how to use widget callbacks to update the state of a Bokeh application, and in turn, the data that is presented to the user.\n",
    "\n",
    "Your job in this exercise is to use the slider's **on_change()** function to update the plot's data from the previous example. NumPy's **sin()** function will be used to update the y-axis data of the plot.\n",
    "\n",
    "Now that you have added a widget callback, notice how as you move the slider of your app, the figure also updates!\n",
    "\n",
    "\n",
    "> **Note**\n",
    "\n",
    "> It is currently possible to push udpates from python, to BokehJS (i.e., to update plots, etc.) using push_notebook(). It is not currently possible to get events or updates of a clean way from the other direction (e.g. to have a range or selection update trigger a python callback) without using a Bokeh Server ([reference](http://bokeh.pydata.org/en/0.11.0/docs/user_guide/server.html. Adding the capability for two-way Python<–>JS)) synchronization through Jupyter comms is a planned future addition.\n",
    "\n",
    "> Excelent issue [here](https://groups.google.com/a/continuum.io/forum/#!topic/bokeh/YTum5CcI2y)."
   ]
  },
  {
   "cell_type": "code",
   "execution_count": null,
   "metadata": {
    "collapsed": false
   },
   "outputs": [],
   "source": [
    "%%writefile mybokeh.py\n",
    "#write/save cell contents into mybokeh.py (use -a to append). \n",
    "\n",
    "# Import the ColumnDataSource, figure class from bokeh.plotting\n",
    "from bokeh.plotting import ColumnDataSource, figure\n",
    "\n",
    "# Import the widgets\n",
    "from bokeh.layouts import widgetbox, column\n",
    "from bokeh.models import Slider\n",
    "\n",
    "# Import numpy\n",
    "import numpy as np\n",
    "\n",
    "# Import current document\n",
    "from bokeh.io import curdoc\n"
   ]
  },
  {
   "cell_type": "code",
   "execution_count": null,
   "metadata": {
    "collapsed": false
   },
   "outputs": [],
   "source": [
    "%%writefile -a mybokeh.py\n",
    "#write/save cell contents into mybokeh.py (use -a to append). \n",
    "\n",
    "\n",
    "# Define a callback function: callback\n",
    "def callback(attr, old, new):\n",
    "\n",
    "    # Read the current value of the slider: scale\n",
    "    scale = slider.value\n",
    "\n",
    "    # Compute the updated y using np.cos(scale/x): new_y\n",
    "    new_y = np.sin(scale/x)\n",
    "    \n",
    "    # Update source with the new data values\n",
    "    source.data = {'x': x, 'y': new_y}    "
   ]
  },
  {
   "cell_type": "code",
   "execution_count": null,
   "metadata": {
    "collapsed": false
   },
   "outputs": [],
   "source": [
    "%%writefile -a mybokeh.py\n",
    "\n",
    "# Dataset\n",
    "x = np.arange(0,10,0.1)\n",
    "y = np.sin(x)\n",
    "\n",
    "# Create ColumnDataSource: source\n",
    "source = ColumnDataSource(data={'x': x, 'y': y})\n",
    "\n",
    "# Create a figure\n",
    "p = figure(x_axis_label='x values', y_axis_label='Sin(x)')\n",
    "\n",
    "# Add a line to the plot\n",
    "p.line('x', 'y', source=source)\n",
    "\n",
    "# Create first slider: slider1\n",
    "slider = Slider(title='slider1', start=0, end=10, step=0.1, value=2)\n"
   ]
  },
  {
   "cell_type": "code",
   "execution_count": null,
   "metadata": {
    "collapsed": false
   },
   "outputs": [],
   "source": [
    "%%writefile -a mybokeh.py\n",
    "\n",
    "# Attach the callback to the 'value' property of slider\n",
    "slider.on_change('value',callback)\n",
    "\n",
    "# Create layout and add to current document\n",
    "layout = column(widgetbox(slider), p)\n",
    "curdoc().add_root(layout)"
   ]
  },
  {
   "cell_type": "code",
   "execution_count": null,
   "metadata": {
    "collapsed": true
   },
   "outputs": [],
   "source": [
    "# Open a terminal and execute\n",
    "# bokeh serve mybokeh.py\n",
    "\n",
    "# Open the browser and typed\n",
    "# http://localhost:5006/mybokeh\n",
    "\n",
    "# reference\n",
    "# http://bokeh.pydata.org/en/latest/docs/user_guide/server.html"
   ]
  },
  {
   "cell_type": "markdown",
   "metadata": {},
   "source": [
    "![Tabular Dataset](http://bokeh.pydata.org/en/latest/_images/bokeh_serve_client.svg)"
   ]
  },
  {
   "cell_type": "markdown",
   "metadata": {},
   "source": [
    "## Proof of Concept — embedding a Bokeh server in a Notebook\n",
    "\n",
    "\n",
    "[Bokeh's Author reference](https://github.com/bokeh/bokeh/blob/0.12.4/examples/howto/server_embed/notebook_embed.ipynb)\n",
    "\n",
    "This notebook shows an apprioach to embedding Bokeh server application inside Jupyter notebook. Note that this method has some potential drawbacks, and that in future releases, there will be new APIs to mitigate these drawbacks and streamline usage."
   ]
  },
  {
   "cell_type": "code",
   "execution_count": null,
   "metadata": {
    "collapsed": true
   },
   "outputs": [],
   "source": [
    "# Import the ColumnDataSource, figure class from bokeh.plotting\n",
    "from bokeh.plotting import ColumnDataSource, figure\n",
    "\n",
    "# Import the widgets\n",
    "from bokeh.layouts import widgetbox, column\n",
    "from bokeh.models import Slider\n",
    "\n",
    "# Import numpy\n",
    "import numpy as np\n"
   ]
  },
  {
   "cell_type": "markdown",
   "metadata": {},
   "source": [
    "There are various application handlers that can be used to build up Bokeh documents. For example, there is a ScriptHandler that uses the code from a .py file to produce Bokeh documents. This is the handler that is used when we run bokeh serve app.py. Here we are going to use the lesser-known FunctionHandler, that gets configured with a plain Python function to build up a document.\n",
    "\n",
    "Here is the function modify_doc(doc) that defines our app:\n"
   ]
  },
  {
   "cell_type": "code",
   "execution_count": null,
   "metadata": {
    "collapsed": true
   },
   "outputs": [],
   "source": [
    "def modify_doc(doc):\n",
    "    # Dataset\n",
    "    x = np.arange(0,10,0.1)\n",
    "    y = np.sin(x)\n",
    "\n",
    "    # Create ColumnDataSource: source\n",
    "    source = ColumnDataSource(data={'x': x, 'y': y})\n",
    "\n",
    "    # Create a figure\n",
    "    p = figure(x_axis_label='x values', y_axis_label='Sin(x)')\n",
    "\n",
    "    # Add a line to the plot\n",
    "    p.line('x', 'y', source=source)\n",
    "\n",
    "    # Create first slider: slider1\n",
    "    slider = Slider(title='slider1', start=0, end=10, step=0.1, value=2)\n",
    "\n",
    "    def callback(attr, old, new):\n",
    "        # Read the current value of the slider: scale\n",
    "        scale = slider.value\n",
    "\n",
    "        # Compute the updated y using np.cos(scale/x): new_y\n",
    "        new_y = np.sin(scale/x)\n",
    "    \n",
    "        # Update source with the new data values\n",
    "        source.data = {'x': x, 'y': new_y} \n",
    "    \n",
    "    slider.on_change('value', callback)\n",
    "    \n",
    "    # Create layout and add to current document\n",
    "    layout = column(widgetbox(slider), p)\n",
    "\n",
    "    doc.add_root(layout)"
   ]
  },
  {
   "cell_type": "markdown",
   "metadata": {},
   "source": [
    "We take the function above and configure a FunctionHandler with it. Then we create an Application that uses handler. (It is possible, but uncommon, for Bokeh applications to have more than one handler.) The end result is that the Bokeh server will call modify_doc to build new documents for every new sessions that is opened."
   ]
  },
  {
   "cell_type": "code",
   "execution_count": null,
   "metadata": {
    "collapsed": true
   },
   "outputs": [],
   "source": [
    "from bokeh.application.handlers import FunctionHandler\n",
    "from bokeh.application import Application\n",
    "\n",
    "handler = FunctionHandler(modify_doc)\n",
    "app = Application(handler)"
   ]
  },
  {
   "cell_type": "markdown",
   "metadata": {},
   "source": [
    "The Bokeh server runs on a Tornado IOLoop. When we run bokeh serve at the command line, an IOLoop is created and started automatically. In this case we are going to piggy-back off an existing IOLoop, the one that the Jupyter Notebook has."
   ]
  },
  {
   "cell_type": "code",
   "execution_count": null,
   "metadata": {
    "collapsed": true
   },
   "outputs": [],
   "source": [
    "from tornado.ioloop import IOLoop\n",
    "loop = IOLoop.current()"
   ]
  },
  {
   "cell_type": "markdown",
   "metadata": {},
   "source": [
    "Below is a convenience function for showing the resulting app inline in a Jupyter notebook. In the future, there will be an API built into Bokeh that does this.\n",
    "\n",
    "\n",
    "**WARNING** The function below leaks resources. It creates a new Server (with app and handler) every time it is executed, so re-executing some (or all) cells will leave stray Bokeh servers attached to the notebook IOLoop. For apps without periodioc callbacks this is probably often \"OK\", because the leftover server objects are effectively completely dormant when no events come in to them. But if an app has periodic callbacks, they will continue to run indefinitely, which is probably undesirable. In this case, until there is proper Bokeh API to handle cleanup, it is recommended to run the code below explicitly, and \"keep track\" of any servers you create. Their sessions can be shut off by executing:\n",
    "\n",
    "```Python\n",
    "server.get_sessions()[0].destroy()\n",
    "```\n"
   ]
  },
  {
   "cell_type": "code",
   "execution_count": null,
   "metadata": {
    "collapsed": true
   },
   "outputs": [],
   "source": [
    "def show_app(app, notebook_url=\"127.0.0.1:8888\"):\n",
    "    from IPython.display import HTML, display\n",
    "    from bokeh.embed import autoload_server\n",
    "    from bokeh.server.server import Server\n",
    "    \n",
    "    server = Server({'/': app}, io_loop=loop, port=0, host='*', allow_websocket_origin=[notebook_url])\n",
    "    server.start()\n",
    "    \n",
    "    script = autoload_server(model=None, url='http://127.0.0.1:%d' % server.port)\n",
    "    \n",
    "    display(HTML(script))"
   ]
  },
  {
   "cell_type": "code",
   "execution_count": null,
   "metadata": {
    "collapsed": false
   },
   "outputs": [],
   "source": [
    "\n",
    "show_app(app)"
   ]
  },
  {
   "cell_type": "markdown",
   "metadata": {},
   "source": [
    "## Updating data sources from dropdown callbacks\n",
    "\n",
    "You will now learn to update the plot's data using a **drop down** menu instead of a slider. This would allow users to do things like select between different data sources to view."
   ]
  },
  {
   "cell_type": "code",
   "execution_count": null,
   "metadata": {
    "collapsed": false
   },
   "outputs": [],
   "source": [
    "# Perform necessary imports\n",
    "from bokeh.models import ColumnDataSource, Select\n",
    "\n",
    "# Import pandas\n",
    "import pandas as pd\n",
    "\n",
    "# Import row layout\n",
    "from bokeh.layouts import row\n",
    "\n",
    "data = pd.read_csv(\"fertility.csv\", encoding = 'latin2')"
   ]
  },
  {
   "cell_type": "code",
   "execution_count": null,
   "metadata": {
    "collapsed": true
   },
   "outputs": [],
   "source": [
    "def modify_doc(doc):    \n",
    "    fertility = data[\"fertility\"]\n",
    "    female_literacy = data [\"female literacy\"]\n",
    "    population = data [\"population\"]\n",
    "\n",
    "    # Create ColumnDataSource: source\n",
    "    source = ColumnDataSource(data={\n",
    "        'x' : fertility,\n",
    "        'y' : female_literacy\n",
    "    })\n",
    "\n",
    "    # Create a new plot: plot\n",
    "    plot = figure()\n",
    "\n",
    "    # Add circles to the plot\n",
    "    plot.circle('x', 'y', source=source)\n",
    "\n",
    "    # Define a callback function: update_plot\n",
    "    def update_plot(attr, old, new):\n",
    "        # If the new Selection is 'female_literacy', update 'y' to female_literacy\n",
    "        if new == 'female_literacy': \n",
    "            source.data = {\n",
    "                'x' : fertility,\n",
    "                'y' : female_literacy\n",
    "            }\n",
    "        # Else, update 'y' to population\n",
    "        else:\n",
    "            source.data = {\n",
    "                'x' : fertility,\n",
    "                'y' : population\n",
    "            }\n",
    "\n",
    "    # Create a dropdown Select widget: select    \n",
    "    select = Select(title=\"distribution\", options=['female_literacy', 'population'], value='female_literacy')\n",
    "\n",
    "    # Attach the update_plot callback to the 'value' property of select\n",
    "    select.on_change('value', update_plot)\n",
    "\n",
    "    # Create layout and add to current document\n",
    "    layout = row(select, plot)\n",
    "    doc.add_root(layout)"
   ]
  },
  {
   "cell_type": "code",
   "execution_count": null,
   "metadata": {
    "collapsed": false
   },
   "outputs": [],
   "source": [
    "from bokeh.application.handlers import FunctionHandler\n",
    "from bokeh.application import Application\n",
    "\n",
    "handler = FunctionHandler(modify_doc)\n",
    "app = Application(handler)\n",
    "\n",
    "from tornado.ioloop import IOLoop\n",
    "loop = IOLoop.current()"
   ]
  },
  {
   "cell_type": "code",
   "execution_count": null,
   "metadata": {
    "collapsed": true
   },
   "outputs": [],
   "source": [
    "def show_app(app, notebook_url=\"127.0.0.1:8888\"):\n",
    "    from IPython.display import HTML, display\n",
    "    from bokeh.embed import autoload_server\n",
    "    from bokeh.server.server import Server\n",
    "    \n",
    "    server = Server({'/': app}, io_loop=loop, port=0, host='*', allow_websocket_origin=[notebook_url])\n",
    "    server.start()\n",
    "    \n",
    "    script = autoload_server(model=None, url='http://127.0.0.1:%d' % server.port)\n",
    "    \n",
    "    display(HTML(script))"
   ]
  },
  {
   "cell_type": "code",
   "execution_count": null,
   "metadata": {
    "collapsed": false
   },
   "outputs": [],
   "source": [
    "show_app(app)"
   ]
  },
  {
   "cell_type": "markdown",
   "metadata": {},
   "source": [
    "## Synchronize two dropdowns\n",
    "\n",
    "You will now learn how to use a dropdown callback to update another dropdown's options. This will allow you to customize your applications even further and is a powerful addition to your toolbox.\n",
    "\n",
    "Your job in this exercise is to create two dropdown select widgets and then define a callback such that one dropdown is used to update the other dropdown."
   ]
  },
  {
   "cell_type": "code",
   "execution_count": null,
   "metadata": {
    "collapsed": true
   },
   "outputs": [],
   "source": [
    "# Import the widgets\n",
    "from bokeh.layouts import widgetbox\n",
    "\n",
    "# Perform necessary imports\n",
    "from bokeh.models import  Select"
   ]
  },
  {
   "cell_type": "code",
   "execution_count": null,
   "metadata": {
    "collapsed": false
   },
   "outputs": [],
   "source": [
    "def modify_doc(doc):    \n",
    "   \n",
    "    # Create two dropdown Select widgets: select1, select2\n",
    "    select1 = Select(title='First', options=['A', 'B'], value='A')\n",
    "    select2 = Select(title='Second', options=['1', '2', '3'], value='1')\n",
    "\n",
    "    # Define a callback function: callback\n",
    "    def callback(attr, old, new):\n",
    "        # If select1 is 'A' \n",
    "        if select1.value == 'A':\n",
    "            # Set select2 options to ['1', '2', '3']\n",
    "            select2.options = ['1', '2', '3']\n",
    "\n",
    "            # Set select2 value to '1'\n",
    "            select2.value = '1'\n",
    "        else:\n",
    "            # Set select2 options to ['100', '200', '300']\n",
    "            select2.options = ['100', '200', '300']\n",
    "\n",
    "            # Set select2 value to '100'\n",
    "            select2.value = '100'\n",
    "\n",
    "    # Attach the callback to the 'value' property of select1\n",
    "    select1.on_change('value', callback)\n",
    "\n",
    "    # Create layout and add to current document\n",
    "    layout = widgetbox(select1, select2)\n",
    "    \n",
    "    doc.add_root(layout)"
   ]
  },
  {
   "cell_type": "code",
   "execution_count": null,
   "metadata": {
    "collapsed": true
   },
   "outputs": [],
   "source": [
    "from bokeh.application.handlers import FunctionHandler\n",
    "from bokeh.application import Application\n",
    "\n",
    "handler = FunctionHandler(modify_doc)\n",
    "app = Application(handler)\n",
    "\n",
    "from tornado.ioloop import IOLoop\n",
    "loop = IOLoop.current()"
   ]
  },
  {
   "cell_type": "code",
   "execution_count": null,
   "metadata": {
    "collapsed": true
   },
   "outputs": [],
   "source": [
    "def show_app(app, notebook_url=\"127.0.0.1:8888\"):\n",
    "    from IPython.display import HTML, display\n",
    "    from bokeh.embed import autoload_server\n",
    "    from bokeh.server.server import Server\n",
    "    \n",
    "    server = Server({'/': app}, io_loop=loop, port=0, host='*', allow_websocket_origin=[notebook_url])\n",
    "    server.start()\n",
    "    \n",
    "    script = autoload_server(model=None, url='http://127.0.0.1:%d' % server.port)\n",
    "    \n",
    "    display(HTML(script))"
   ]
  },
  {
   "cell_type": "code",
   "execution_count": null,
   "metadata": {
    "collapsed": false
   },
   "outputs": [],
   "source": [
    "show_app(app)"
   ]
  },
  {
   "cell_type": "markdown",
   "metadata": {
    "collapsed": true
   },
   "source": [
    "## Button widgets\n",
    "\n",
    "You will now gain practice with adding buttons to your interactive visualizations. Your job in this exercise is to create a button and use its on_click() method to update a plot."
   ]
  },
  {
   "cell_type": "code",
   "execution_count": null,
   "metadata": {
    "collapsed": false
   },
   "outputs": [],
   "source": [
    "# Import the widgets\n",
    "from bokeh.layouts import widgetbox, column\n",
    "\n",
    "# Import the ColumnDataSource, figure class from bokeh.plotting\n",
    "from bokeh.plotting import ColumnDataSource, figure\n",
    "\n",
    "# Perform necessary imports\n",
    "from bokeh.models import  Button\n",
    "\n",
    "import numpy as np"
   ]
  },
  {
   "cell_type": "code",
   "execution_count": null,
   "metadata": {
    "collapsed": false
   },
   "outputs": [],
   "source": [
    "def modify_doc(doc):   \n",
    "    # Dataset\n",
    "    x = np.arange(0,10,0.1)\n",
    "    y = np.arange(0,10,0.1)\n",
    "    \n",
    "    # Create ColumnDataSource: source\n",
    "    source = ColumnDataSource(data={'x': x, 'y': y})\n",
    "    \n",
    "    # Create a new plot: plot\n",
    "    plot = figure()\n",
    "\n",
    "    # Add circles to the plot\n",
    "    plot.circle('x', 'y', source=source)\n",
    "    \n",
    "    # Create a Button with label 'Update Data'\n",
    "    button = Button(label='Update Data')\n",
    "\n",
    "    # Define an update callback with no arguments: update\n",
    "    def update():\n",
    "\n",
    "        N = 200\n",
    "        # Compute new y values: y\n",
    "        y = np.sin(x) + np.random.random(len(x))\n",
    "\n",
    "        # Update the ColumnDataSource data dictionary\n",
    "        source.data = {'x': x, 'y': y}\n",
    "\n",
    "    # Add the update callback to the button\n",
    "    button.on_click(update)\n",
    "\n",
    "    # Create layout and add to current document\n",
    "    layout = column(widgetbox(button), plot)\n",
    "    \n",
    "    doc.add_root(layout)"
   ]
  },
  {
   "cell_type": "code",
   "execution_count": null,
   "metadata": {
    "collapsed": true
   },
   "outputs": [],
   "source": [
    "from bokeh.application.handlers import FunctionHandler\n",
    "from bokeh.application import Application\n",
    "\n",
    "handler = FunctionHandler(modify_doc)\n",
    "app = Application(handler)\n",
    "\n",
    "from tornado.ioloop import IOLoop\n",
    "loop = IOLoop.current()"
   ]
  },
  {
   "cell_type": "code",
   "execution_count": null,
   "metadata": {
    "collapsed": true
   },
   "outputs": [],
   "source": [
    "def show_app(app, notebook_url=\"127.0.0.1:8888\"):\n",
    "    from IPython.display import HTML, display\n",
    "    from bokeh.embed import autoload_server\n",
    "    from bokeh.server.server import Server\n",
    "    \n",
    "    server = Server({'/': app}, io_loop=loop, port=0, host='*', allow_websocket_origin=[notebook_url])\n",
    "    server.start()\n",
    "    \n",
    "    script = autoload_server(model=None, url='http://127.0.0.1:%d' % server.port)\n",
    "    \n",
    "    display(HTML(script))"
   ]
  },
  {
   "cell_type": "code",
   "execution_count": null,
   "metadata": {
    "collapsed": false
   },
   "outputs": [],
   "source": [
    "show_app(app)"
   ]
  },
  {
   "cell_type": "markdown",
   "metadata": {},
   "source": [
    "## Button styles\n",
    "\n",
    "You can also get really creative with your Button widgets.\n",
    "\n",
    "In this exercise, you will practice using CheckboxGroup, RadioGroup, and Toggle to add multiple Button widgets with different styles."
   ]
  },
  {
   "cell_type": "code",
   "execution_count": null,
   "metadata": {
    "collapsed": false
   },
   "outputs": [],
   "source": [
    "# Import CheckboxGroup, RadioGroup, Toggle from bokeh.models\n",
    "from bokeh.models import CheckboxGroup, RadioGroup, Toggle\n",
    "\n",
    "# Perform the necessary imports\n",
    "from bokeh.io import output_notebook, show\n",
    "\n",
    "# Add a Toggle: toggle\n",
    "toggle = Toggle(button_type='success', label = 'Toggle button')\n",
    "\n",
    "# Add a CheckboxGroup: checkbox\n",
    "checkbox = CheckboxGroup(labels=['Option 1', 'Option 2', 'Option 3'])\n",
    "\n",
    "# Add a RadioGroup: radio\n",
    "radio = RadioGroup(labels=['Option 1', 'Option 2', 'Option 3'])\n",
    "\n",
    "# Add toggle, checkbox and radio to a widgetbox\n",
    "layout = widgetbox(toggle, checkbox, radio)\n",
    "\n",
    "# Call the output_notebook() \n",
    "output_notebook()\n",
    "show(layout)\n",
    "\n"
   ]
  }
 ],
 "metadata": {
  "kernelspec": {
   "display_name": "Python 3",
   "language": "python",
   "name": "python3"
  },
  "language_info": {
   "codemirror_mode": {
    "name": "ipython",
    "version": 3
   },
   "file_extension": ".py",
   "mimetype": "text/x-python",
   "name": "python",
   "nbconvert_exporter": "python",
   "pygments_lexer": "ipython3",
   "version": "3.6.0"
  }
 },
 "nbformat": 4,
 "nbformat_minor": 2
}
