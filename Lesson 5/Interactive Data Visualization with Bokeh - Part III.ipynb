{
 "cells": [
  {
   "cell_type": "markdown",
   "metadata": {},
   "source": [
    "# A basic histogram\n",
    "\n",
    "Create a simple histogram with the Histogram() function. Again we'll use the fertility data set to plot the distribution of female literacy around the world."
   ]
  },
  {
   "cell_type": "code",
   "execution_count": null,
   "metadata": {
    "collapsed": true
   },
   "outputs": [],
   "source": [
    "# Import Histogram, output_file, and show from bokeh.charts\n",
    "from bokeh.charts import Histogram, output_notebook, show\n",
    "\n",
    "# Import pandas as pd\n",
    "import pandas as pd\n",
    "\n",
    "# Import the fertility.csv data: data\n",
    "data = pd.read_csv(\"fertility.csv\", encoding = 'latin2')"
   ]
  },
  {
   "cell_type": "code",
   "execution_count": null,
   "metadata": {
    "collapsed": false
   },
   "outputs": [],
   "source": [
    "data.head()"
   ]
  },
  {
   "cell_type": "code",
   "execution_count": null,
   "metadata": {
    "collapsed": false
   },
   "outputs": [],
   "source": [
    "# Make the Histogram: p\n",
    "p = Histogram(data, 'female literacy', title='Female Literacy', bins=40)\n",
    "\n",
    "# Set axis labels\n",
    "p.xaxis.axis_label = 'Female Literacy (% population)'\n",
    "p.yaxis.axis_label = 'Number of Countries'\n",
    "\n",
    "\n",
    "# Call the output_notebook() \n",
    "output_notebook()\n",
    "show(p)"
   ]
  },
  {
   "cell_type": "markdown",
   "metadata": {},
   "source": [
    "# Generating multiple histograms at once\n",
    "\n",
    "Let's make separate histograms, each with 10 bins for each of the 6 continents.\n",
    "\n",
    "To do this with Bokeh charts we pass a column name to the the **color** parameter of the **Histogram()** function. In this case, the **'Continent'** column contains the continent abbreviation that we'll use to group the female literacy values in each of the 6 continents.\n",
    "\n"
   ]
  },
  {
   "cell_type": "code",
   "execution_count": null,
   "metadata": {
    "collapsed": false
   },
   "outputs": [],
   "source": [
    "# Import Histogram, output_file, and show from bokeh.charts\n",
    "from bokeh.charts import Histogram, output_notebook, show\n",
    "\n",
    "# Import pandas as pd\n",
    "import pandas as pd\n",
    "\n",
    "# Import the fertility.csv data: data\n",
    "data = pd.read_csv(\"fertility.csv\", encoding = 'latin2')\n",
    "\n",
    "# Make a Histogram: p\n",
    "p = Histogram(data, 'female literacy', title='Female Literacy',\n",
    "              color='Continent', legend='top_left', bins=10)\n",
    "\n",
    "# Set axis labels\n",
    "p.xaxis.axis_label = 'Female Literacy (% population)'\n",
    "p.yaxis.axis_label = 'Number of Countries'\n",
    "\n",
    "\n",
    "# Call the output_notebook() \n",
    "output_notebook()\n",
    "show(p)"
   ]
  },
  {
   "cell_type": "markdown",
   "metadata": {
    "collapsed": true
   },
   "source": [
    "# A basic box plot\n",
    "\n",
    "In this exercise, you'll make a box plot of female literacy per continent by setting **values='female_literacy'** and **label='Continent'** with the **BoxPlot()** function.\n",
    "\n"
   ]
  },
  {
   "cell_type": "code",
   "execution_count": null,
   "metadata": {
    "collapsed": false
   },
   "outputs": [],
   "source": [
    "# Import BoxPlot, output_notebook, and show from bokeh.charts\n",
    "from bokeh.charts import BoxPlot, output_notebook, show\n",
    "\n",
    "# Import pandas as pd\n",
    "import pandas as pd\n",
    "\n",
    "# Import the fertility.csv data: data\n",
    "data = pd.read_csv(\"fertility.csv\", encoding = 'latin2')\n",
    "\n",
    "# Make a box plot: p\n",
    "p = BoxPlot(data, values='female literacy', label='Continent',\n",
    "             title='Female Literacy (grouped by Continent)',\n",
    "             legend='bottom_right')\n",
    "\n",
    "# Set the y axis label\n",
    "p.yaxis.axis_label='Female literacy (% population)'\n",
    "\n",
    "# Call the output_notebook() \n",
    "output_notebook()\n",
    "show(p)\n"
   ]
  },
  {
   "cell_type": "markdown",
   "metadata": {},
   "source": [
    "# Color different groups differently\n",
    "\n",
    "Like the **Histogram()** function, we can use the color parameter of the **BoxPlot()** function to color the box plot of each continent separately.\n",
    "\n",
    "In this exercise, you'll distinguish between the six continents by setting set the color parameter of the **BoxPlot()** function to **'Continent'**.\n",
    "\n"
   ]
  },
  {
   "cell_type": "code",
   "execution_count": null,
   "metadata": {
    "collapsed": false
   },
   "outputs": [],
   "source": [
    "# Make a box plot: p\n",
    "p = BoxPlot(data, values='female literacy', label='Continent', color='Continent',\n",
    "             title='Female Literacy (grouped by Continent)',\n",
    "             legend='bottom_right')\n",
    "\n",
    "# Set the y axis label\n",
    "p.yaxis.axis_label='Female literacy (% population)'\n",
    "\n",
    "# Call the output_notebook() \n",
    "output_notebook()\n",
    "show(p)"
   ]
  },
  {
   "cell_type": "markdown",
   "metadata": {},
   "source": [
    "# A basic scatter plot\n",
    "\n",
    "\n",
    "The high level Scatter in bokeh.charts is similar to marker plots from bokeh.plotting, but differs in important ways. \n",
    "- For drawing different markers automatically based on groups in the data.\n",
    "- To choose colors automatically based on groups in the data.\n",
    "- You want to work directly with Pandas DataFrame.\n",
    "\n",
    "In this exercise, you'll make a simple scatter plot of female literacy on the y axis and population on x axis.\n"
   ]
  },
  {
   "cell_type": "code",
   "execution_count": null,
   "metadata": {
    "collapsed": true
   },
   "outputs": [],
   "source": [
    "# Import Scatter, output_notebook, and show from bokeh.charts\n",
    "from bokeh.charts import Scatter, output_notebook, show\n",
    "\n",
    "# Import pandas as pd\n",
    "import pandas as pd\n",
    "\n",
    "# Import HoverTool from bokeh.models\n",
    "from bokeh.models import HoverTool\n",
    "\n",
    "\n",
    "# Import the fertility.csv data: data\n",
    "data = pd.read_csv(\"fertility.csv\", encoding = 'latin2')"
   ]
  },
  {
   "cell_type": "code",
   "execution_count": null,
   "metadata": {
    "collapsed": false
   },
   "outputs": [],
   "source": [
    "data.head()"
   ]
  },
  {
   "cell_type": "code",
   "execution_count": null,
   "metadata": {
    "collapsed": false
   },
   "outputs": [],
   "source": [
    "# Create a tooltips to hover\n",
    "tooltips=[('Country','@Country')]\n",
    "\n",
    "# Make a scatter plot: p\n",
    "p = Scatter(data, x='population', y='female literacy',\n",
    "            title='Female Literacy vs Population', tooltips=tooltips)\n",
    "\n",
    "# Set the x-axis label\n",
    "p.xaxis.axis_label = 'Population'\n",
    "\n",
    "# Set the y-axis label\n",
    "p.yaxis.axis_label = 'Female Literacy'\n",
    "\n",
    "# Call the output_notebook() \n",
    "output_notebook()\n",
    "show(p)"
   ]
  }
 ],
 "metadata": {
  "kernelspec": {
   "display_name": "Python 3",
   "language": "python",
   "name": "python3"
  },
  "language_info": {
   "codemirror_mode": {
    "name": "ipython",
    "version": 3
   },
   "file_extension": ".py",
   "mimetype": "text/x-python",
   "name": "python",
   "nbconvert_exporter": "python",
   "pygments_lexer": "ipython3",
   "version": "3.6.0"
  }
 },
 "nbformat": 4,
 "nbformat_minor": 2
}
